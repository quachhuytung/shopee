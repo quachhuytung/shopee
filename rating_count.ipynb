{
 "cells": [
  {
   "cell_type": "code",
   "execution_count": 1,
   "metadata": {},
   "outputs": [],
   "source": [
    "import json\n",
    "rating_per_product_new = dict()\n",
    "rating_per_product_old = dict()\n",
    "\n",
    "with open('rating.jl', 'r') as file:\n",
    "    for line in file:\n",
    "        line_data_dict = json.loads(line)\n",
    "        rating_list_container = line_data_dict.get(\"rating\").get('data')\n",
    "        if(rating_list_container):\n",
    "            rating_list = rating_list_container.get(\"ratings\")\n",
    "            if(rating_list):\n",
    "                for rating in rating_list:\n",
    "                    if rating_per_product_new.get(rating.get(\"itemid\")):\n",
    "                        rating_per_product_new[rating.get(\"itemid\")] = rating_per_product_new.get(rating.get(\"itemid\")) + 1\n",
    "                    else:\n",
    "                        rating_per_product_new[rating.get(\"itemid\")] = 1"
   ]
  },
  {
   "cell_type": "code",
   "execution_count": 2,
   "metadata": {},
   "outputs": [],
   "source": [
    "with open('rating_old.jl', 'r') as file:\n",
    "    for line in file:\n",
    "        line_data_dict = json.loads(line)\n",
    "        rating_list_container = line_data_dict.get(\"rating\").get('data')\n",
    "        if(rating_list_container):\n",
    "            rating_list = rating_list_container.get(\"ratings\")\n",
    "            if(rating_list):\n",
    "                for rating in rating_list:\n",
    "                    if rating_per_product_old.get(rating.get(\"itemid\")):\n",
    "                        rating_per_product_old[rating.get(\"itemid\")] = rating_per_product_old.get(rating.get(\"itemid\")) + 1\n",
    "                    else:\n",
    "                        rating_per_product_old[rating.get(\"itemid\")] = 1"
   ]
  },
  {
   "cell_type": "code",
   "execution_count": 3,
   "metadata": {
    "scrolled": true
   },
   "outputs": [
    {
     "name": "stdout",
     "output_type": "stream",
     "text": [
      "Number of products in the 1st method: 1\n",
      "Number of products in the 2nd method: 1\n"
     ]
    }
   ],
   "source": [
    "## Tinh tong so san pham, thoa man dieu kien co it nhat 1 rating\n",
    "print(\"Number of products in the 1st method: %d\" % len(rating_per_product_old.keys()))\n",
    "print(\"Number of products in the 2nd method: %d\" % len(rating_per_product_new.keys()))"
   ]
  },
  {
   "cell_type": "code",
   "execution_count": 4,
   "metadata": {},
   "outputs": [
    {
     "name": "stdout",
     "output_type": "stream",
     "text": [
      "Number of ratings in the 1st method: 1\n",
      "Number of ratings in the 2nd method: 1\n"
     ]
    }
   ],
   "source": [
    "## Tinh tong so rating\n",
    "print(\"Number of ratings in the 1st method: %d\" % len(rating_per_product_old.values()))\n",
    "print(\"Number of ratings in the 2nd method: %d\" % len(rating_per_product_new.values()))"
   ]
  },
  {
   "cell_type": "code",
   "execution_count": 5,
   "metadata": {},
   "outputs": [],
   "source": [
    "import csv\n",
    "with open('summary.csv', 'w') as csv_file:\n",
    "    fieldnames = [\"product_id\", \"old_rating_count\", \"new_rating_count\"]\n",
    "    writer = csv.DictWriter(csv_file, fieldnames=fieldnames)\n",
    "    writer.writeheader()\n",
    "    for product_id, old_rating_count in rating_per_product_old.items():\n",
    "        writer.writerow({\n",
    "            'product_id': product_id,\n",
    "            'old_rating_count': old_rating_count,\n",
    "            'new_rating_count': rating_per_product_new[product_id],\n",
    "        })"
   ]
  }
 ],
 "metadata": {
  "kernelspec": {
   "display_name": "Python 3",
   "language": "python",
   "name": "python3"
  },
  "language_info": {
   "codemirror_mode": {
    "name": "ipython",
    "version": 3
   },
   "file_extension": ".py",
   "mimetype": "text/x-python",
   "name": "python",
   "nbconvert_exporter": "python",
   "pygments_lexer": "ipython3",
   "version": "3.7.4"
  }
 },
 "nbformat": 4,
 "nbformat_minor": 2
}
